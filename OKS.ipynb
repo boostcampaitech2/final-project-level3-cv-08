{
 "cells": [
  {
   "cell_type": "code",
   "execution_count": 23,
   "metadata": {},
   "outputs": [],
   "source": [
    "import json\n",
    "import numpy as np"
   ]
  },
  {
   "cell_type": "code",
   "execution_count": 24,
   "metadata": {},
   "outputs": [],
   "source": [
    "gt = 'mediapipe/keypoints/hot.mp4/0.671612024307251.json'\n",
    "# cmp = 'mediapipe/keypoints/hot.mp4/0.955897331237793.json'\n",
    "cmp = 'mediapipe/keypoints/hot.mp4/1.4703404903411865.json'"
   ]
  },
  {
   "cell_type": "code",
   "execution_count": 25,
   "metadata": {},
   "outputs": [],
   "source": [
    "with open(gt, 'r') as file:\n",
    "    gt_data = json.load(file)\n",
    "\n",
    "with open(cmp, 'r') as file:\n",
    "    cmp_data = json.load(file)"
   ]
  },
  {
   "cell_type": "code",
   "execution_count": 26,
   "metadata": {},
   "outputs": [
    {
     "data": {
      "text/plain": [
       "[0.5148850679397583,\n",
       " 0.5666829943656921,\n",
       " -0.011555502191185951,\n",
       " 0.9987103343009949]"
      ]
     },
     "execution_count": 26,
     "metadata": {},
     "output_type": "execute_result"
    }
   ],
   "source": [
    "gt_data['keypoints'][0]['left_hip']"
   ]
  },
  {
   "cell_type": "code",
   "execution_count": 27,
   "metadata": {},
   "outputs": [
    {
     "data": {
      "text/plain": [
       "(953.0, 540.0)"
      ]
     },
     "execution_count": 27,
     "metadata": {},
     "output_type": "execute_result"
    }
   ],
   "source": [
    "gt_w, gt_h = gt_data['frame size']\n",
    "cmp_w, cmp_h = cmp_data['frame size']\n",
    "gt_w, gt_h"
   ]
  },
  {
   "cell_type": "code",
   "execution_count": 28,
   "metadata": {},
   "outputs": [
    {
     "name": "stdout",
     "output_type": "stream",
     "text": [
      "bbox gt 94 297\n",
      "bbox cmp 95 294\n"
     ]
    }
   ],
   "source": [
    "gt_minx, gt_maxx, gt_miny, gt_maxy = gt_w, 0, gt_h, 0\n",
    "cmp_minx, cmp_maxx, cmp_miny, cmp_maxy = gt_w, 0, gt_h, 0\n",
    "\n",
    "for kp in gt_data['keypoints'][0]:\n",
    "    gt_kp = gt_data['keypoints'][0][kp]\n",
    "    cmp_kp = cmp_data['keypoints'][0][kp]\n",
    "    gt_kpx, gt_kpy = int(gt_kp[0]*gt_w), int(gt_kp[1]*gt_h)\n",
    "    cmp_kpx, cmp_kpy = int(cmp_kp[0]*cmp_w), int(cmp_kp[1]*cmp_h)\n",
    "\n",
    "    gt_minx, gt_maxx, gt_miny, gt_maxy = min(gt_minx, gt_kpx), max(gt_maxx, gt_kpx), min(gt_miny, gt_kpy), max(gt_maxy, gt_kpy)\n",
    "    cmp_minx, cmp_maxx, cmp_miny, cmp_maxy = min(cmp_minx, cmp_kpx), max(cmp_maxx, cmp_kpx), min(cmp_miny, cmp_kpy), max(cmp_maxy, cmp_kpy)\n",
    "\n",
    "    bbox_gt = (gt_maxx - gt_minx)*(gt_maxy - gt_miny)\n",
    "    bbox_cmp = (cmp_maxx - cmp_minx)*(cmp_maxy-cmp_miny)\n",
    "    \n",
    "print(\"bbox gt\", gt_maxx - gt_minx, gt_maxy - gt_miny)\n",
    "print(\"bbox cmp\", cmp_maxx - cmp_minx, cmp_maxy-cmp_miny)"
   ]
  },
  {
   "cell_type": "markdown",
   "metadata": {},
   "source": [
    "# compute oks"
   ]
  },
  {
   "cell_type": "markdown",
   "metadata": {},
   "source": [
    "https://github.com/ZheC/Realtime_Multi-Person_Pose_Estimation/issues/7\n",
    "\n",
    "순서 참고\n",
    "\n",
    "\"keypoints\": [ \"nose\", \"left_eye\", \"right_eye\", \"left_ear\", \"right_ear\", \"left_shoulder\", \"right_shoulder\", \"left_elbow\", \"right_elbow\", \"left_wrist\", \"right_wrist\", \"left_hip\", \"right_hip\", \"left_knee\", \"right_knee\", \"left_ankle\", \"right_ankle\" ]"
   ]
  },
  {
   "cell_type": "code",
   "execution_count": 37,
   "metadata": {},
   "outputs": [],
   "source": [
    "sigma = { \"nose\":0.026, \n",
    "\"left_eye\":0.025, \n",
    "\"right_eye\":0.025, \n",
    "\"left_ear\":0.035, \n",
    "\"right_ear\":0.035, \n",
    "\"left_shoulder\":0.079, \n",
    "\"right_shoulder\":0.079, \n",
    "\"left_elbow\":0.072, \n",
    "\"right_elbow\":0.072, \n",
    "\"left_wrist\":0.062, \n",
    "\"right_wrist\":0.062, \n",
    "\"left_hip\":0.107, \n",
    "\"right_hip\":0.107, \n",
    "\"left_knee\":0.087, \n",
    "\"right_knee\":0.087, \n",
    "\"left_ankle\":0.089, \n",
    "\"right_ankle\":0.089\n",
    "}\n",
    "# kp_constant =[.26, .25, .25, .35, .35, .79, .79, .72, .72, .62,.62, 1.07, 1.07, .87, .87, .89, .89]"
   ]
  },
  {
   "cell_type": "code",
   "execution_count": 30,
   "metadata": {},
   "outputs": [
    {
     "name": "stdout",
     "output_type": "stream",
     "text": [
      "left_hip -0.9243589043617249 7.076010704040527 0.107 0.9999971466249349\n",
      "left_knee -1.9859544038772583 -0.8978748321533203 0.087 0.9999995973996366\n",
      "left_ankle 0.5502528548240662 5.695145130157471 0.089 0.9999973486580667\n",
      "right_hip 0.707171767950058 5.595914125442505 0.107 0.9999982173894723\n",
      "right_knee 3.213358521461487 3.7128102779388428 0.087 0.9999979565168327\n",
      "right_ankle 0.9611673951148987 4.3868279457092285 0.089 0.9999983666243999\n",
      "left_shoulder -0.3765485882759094 3.0302953720092773 0.079 0.9999990415453307\n",
      "left_elbow 0.10661965608596802 -1.781185269355774 0.072 0.9999996059894598\n",
      "left_wrist -2.5385361909866333 0.7834678888320923 0.062 0.9999988221264356\n",
      "right_shoulder 1.1402679681777954 0.8898603916168213 0.079 0.9999997849587204\n",
      "right_elbow 0.9507440030574799 -1.9098669290542603 0.072 0.9999994367627256\n",
      "right_wrist 1.5917968153953552 0.016543865203857422 0.062 0.9999995770976484\n",
      "nose -0.7029399275779724 2.448797821998596 0.026 0.9999938404744013\n",
      "left_eye -0.47981685400009155 2.329080104827881 0.025 0.9999941958274453\n",
      "right_eye -0.2684520483016968 1.59651517868042 0.025 0.9999973098545748\n",
      "left_ear -0.6213136911392212 2.9885172843933105 0.035 0.9999951207535266\n",
      "right_ear 0.1557544469833374 1.5337032079696655 0.035 0.9999987554745909\n"
     ]
    }
   ],
   "source": [
    "for kp in gt_data['keypoints'][0]:\n",
    "    gt_kp = gt_data['keypoints'][0][kp]\n",
    "    cmp_kp = cmp_data['keypoints'][0][kp]\n",
    "    gt_kpx, gt_kpy = gt_kp[0]*gt_w, gt_kp[1]*gt_h\n",
    "    cmp_kpx, cmp_kpy = cmp_kp[0]*cmp_w, cmp_kp[1]*cmp_h\n",
    "\n",
    "    kp_c = kp_constant[kp]\n",
    "\n",
    "    dx = gt_kpx - cmp_kpx\n",
    "    dy = gt_kpy - cmp_kpy\n",
    "\n",
    "    oks = np.exp(-(dx**2+dy**2)/(2*(bbox_gt**2)*(kp_c**2)))\n",
    "    print(f\"{kp:15}: {dx:2.5f} {dy:2.5f} {kp_c} {oks}\")"
   ]
  },
  {
   "cell_type": "code",
   "execution_count": 45,
   "metadata": {},
   "outputs": [
    {
     "name": "stdout",
     "output_type": "stream",
     "text": [
      "bbox gt:  94 297\n",
      "bbox cmp:  95 294\n",
      "left_hip       : -0.92436 7.07601 0.035 0.10699999583725013\n",
      "left_knee      : -1.98595 -0.89787 0.035 0.08699990620616507\n",
      "left_ankle     : 0.55025 5.69515 0.035 0.08899999144757112\n",
      "right_hip      : 0.70717 5.59591 0.035 0.10699995097369129\n",
      "right_knee     : 3.21336 3.71281 0.035 0.08699994140348953\n",
      "right_ankle    : 0.96117 4.38683 0.035 0.08899995659031402\n",
      "left_shoulder  : -0.37655 3.03030 0.035 0.07899995909221441\n",
      "left_elbow     : 0.10662 -1.78119 0.035 0.07199997924799074\n",
      "left_wrist     : -2.53854 0.78347 0.035 0.061999991770983316\n",
      "right_shoulder : 1.14027 0.88986 0.035 0.07899998568399234\n",
      "right_elbow    : 0.95074 -1.90987 0.035 0.07199999534402866\n",
      "right_wrist    : 1.59180 0.01654 0.035 0.06199998823663654\n",
      "nose           : -0.70294 2.44880 0.035 0.025999984382308654\n",
      "left_eye       : -0.47982 2.32908 0.035 0.02499995839728526\n",
      "right_eye      : -0.26845 1.59652 0.035 0.024999963755007636\n",
      "left_ear       : -0.62131 2.98852 0.035 0.03499998800072564\n",
      "right_ear      : 0.15575 1.53370 0.035 0.03499995734319347\n",
      "1.137999493712848\n"
     ]
    }
   ],
   "source": [
    "gt = 'mediapipe/keypoints/hot.mp4/0.671612024307251.json'\n",
    "cmp = 'mediapipe/keypoints/hot.mp4/13.356690645217896.json'\n",
    "\n",
    "with open(gt, 'r') as file:\n",
    "    gt_data = json.load(file)\n",
    "\n",
    "with open(cmp, 'r') as file:\n",
    "    cmp_data = json.load(file)\n",
    "\n",
    "gt_minx, gt_maxx, gt_miny, gt_maxy = gt_w, 0, gt_h, 0\n",
    "cmp_minx, cmp_maxx, cmp_miny, cmp_maxy = gt_w, 0, gt_h, 0\n",
    "\n",
    "for kp in gt_data['keypoints'][0]:\n",
    "    gt_kp = gt_data['keypoints'][0][kp]\n",
    "    cmp_kp = cmp_data['keypoints'][0][kp]\n",
    "    gt_kpx, gt_kpy = int(gt_kp[0]*gt_w), int(gt_kp[1]*gt_h)\n",
    "    cmp_kpx, cmp_kpy = int(cmp_kp[0]*cmp_w), int(cmp_kp[1]*cmp_h)\n",
    "\n",
    "    gt_minx, gt_maxx, gt_miny, gt_maxy = min(gt_minx, gt_kpx), max(gt_maxx, gt_kpx), min(gt_miny, gt_kpy), max(gt_maxy, gt_kpy)\n",
    "    cmp_minx, cmp_maxx, cmp_miny, cmp_maxy = min(cmp_minx, cmp_kpx), max(cmp_maxx, cmp_kpx), min(cmp_miny, cmp_kpy), max(cmp_maxy, cmp_kpy)\n",
    "\n",
    "    bbox_gt = (gt_maxx - gt_minx)*(gt_maxy - gt_miny)\n",
    "    bbox_cmp = (cmp_maxx - cmp_minx)*(cmp_maxy-cmp_miny)\n",
    "    \n",
    "print(\"bbox gt: \", gt_maxx - gt_minx, gt_maxy - gt_miny)\n",
    "print(\"bbox cmp: \", cmp_maxx - cmp_minx, cmp_maxy-cmp_miny)\n",
    "\n",
    "tot = 0\n",
    "\n",
    "for kp in gt_data['keypoints'][0]:\n",
    "    gt_kp = gt_data['keypoints'][0][kp]\n",
    "    cmp_kp = cmp_data['keypoints'][0][kp]\n",
    "    gt_kpx, gt_kpy = gt_kp[0]*gt_w, gt_kp[1]*gt_h\n",
    "    cmp_kpx, cmp_kpy = cmp_kp[0]*cmp_w, cmp_kp[1]*cmp_h\n",
    "\n",
    "    sig = sigma[kp]\n",
    "    d = (dx**2+dy**2)**0.5\n",
    "    s = bbox_cmp\n",
    "    k = 2*sig\n",
    "\n",
    "    dx = gt_kpx - cmp_kpx\n",
    "    dy = gt_kpy - cmp_kpy\n",
    "\n",
    "    oks = np.exp(-d**2/(2*(s**2)*(k**2)))*sig\n",
    "    tot += oks\n",
    "    print(f\"{kp:15}: {dx:2.5f} {dy:2.5f} {kp_c} {oks}\")\n",
    "\n",
    "print(tot)"
   ]
  },
  {
   "cell_type": "code",
   "execution_count": 44,
   "metadata": {},
   "outputs": [
    {
     "name": "stdout",
     "output_type": "stream",
     "text": [
      "bbox gt:  94 297\n",
      "bbox cmp:  97 293\n",
      "left_hip       : 0.15473 4.94372 0.035 0.10699999656294686\n",
      "left_knee      : 0.28970 3.85833 0.035 0.08699995648442642\n",
      "left_ankle     : 1.32823 4.94748 0.035 0.08899997396962485\n",
      "right_hip      : 1.16398 4.22132 0.035 0.1069999620474409\n",
      "right_knee     : 4.32591 4.89789 0.035 0.08699996589369408\n",
      "right_ankle    : 1.57521 3.98154 0.035 0.088999925749918\n",
      "left_shoulder  : 0.17399 1.55771 0.035 0.0789999640863743\n",
      "left_elbow     : 0.75883 -1.45832 0.035 0.07199999471969473\n",
      "left_wrist     : 1.00144 0.47860 0.035 0.0619999932545533\n",
      "right_shoulder : 0.63103 1.04613 0.035 0.0789999975867991\n",
      "right_elbow    : 2.99762 -0.58530 0.035 0.07199999679199662\n",
      "right_wrist    : 1.69197 0.42972 0.035 0.061999976716844436\n",
      "nose           : 0.02531 1.94165 0.035 0.02599998186196285\n",
      "left_eye       : -0.22099 1.77929 0.035 0.024999976659656375\n",
      "right_eye      : 0.12497 1.67161 0.035 0.024999980101000796\n",
      "left_ear       : -0.22937 1.98750 0.035 0.034999987576280533\n",
      "right_ear      : 0.06896 1.66581 0.035 0.03499998230201372\n",
      "1.137999612365228\n"
     ]
    }
   ],
   "source": [
    "gt = 'mediapipe/keypoints/hot.mp4/0.671612024307251.json'\n",
    "cmp = 'mediapipe/keypoints/hot.mp4/0.955897331237793.json'\n",
    "\n",
    "with open(gt, 'r') as file:\n",
    "    gt_data = json.load(file)\n",
    "\n",
    "with open(cmp, 'r') as file:\n",
    "    cmp_data = json.load(file)\n",
    "\n",
    "gt_minx, gt_maxx, gt_miny, gt_maxy = gt_w, 0, gt_h, 0\n",
    "cmp_minx, cmp_maxx, cmp_miny, cmp_maxy = gt_w, 0, gt_h, 0\n",
    "\n",
    "for kp in gt_data['keypoints'][0]:\n",
    "    gt_kp = gt_data['keypoints'][0][kp]\n",
    "    cmp_kp = cmp_data['keypoints'][0][kp]\n",
    "    gt_kpx, gt_kpy = int(gt_kp[0]*gt_w), int(gt_kp[1]*gt_h)\n",
    "    cmp_kpx, cmp_kpy = int(cmp_kp[0]*cmp_w), int(cmp_kp[1]*cmp_h)\n",
    "\n",
    "    gt_minx, gt_maxx, gt_miny, gt_maxy = min(gt_minx, gt_kpx), max(gt_maxx, gt_kpx), min(gt_miny, gt_kpy), max(gt_maxy, gt_kpy)\n",
    "    cmp_minx, cmp_maxx, cmp_miny, cmp_maxy = min(cmp_minx, cmp_kpx), max(cmp_maxx, cmp_kpx), min(cmp_miny, cmp_kpy), max(cmp_maxy, cmp_kpy)\n",
    "\n",
    "    bbox_gt = (gt_maxx - gt_minx)*(gt_maxy - gt_miny)\n",
    "    bbox_cmp = (cmp_maxx - cmp_minx)*(cmp_maxy-cmp_miny)\n",
    "    \n",
    "print(\"bbox gt: \", gt_maxx - gt_minx, gt_maxy - gt_miny)\n",
    "print(\"bbox cmp: \", cmp_maxx - cmp_minx, cmp_maxy-cmp_miny)\n",
    "\n",
    "tot = 0\n",
    "\n",
    "for kp in gt_data['keypoints'][0]:\n",
    "    gt_kp = gt_data['keypoints'][0][kp]\n",
    "    cmp_kp = cmp_data['keypoints'][0][kp]\n",
    "    gt_kpx, gt_kpy = gt_kp[0]*gt_w, gt_kp[1]*gt_h\n",
    "    cmp_kpx, cmp_kpy = cmp_kp[0]*cmp_w, cmp_kp[1]*cmp_h\n",
    "\n",
    "    sig = sigma[kp]\n",
    "    d = (dx**2+dy**2)**0.5\n",
    "    s = bbox_cmp\n",
    "    k = 2*sig\n",
    "\n",
    "    dx = gt_kpx - cmp_kpx\n",
    "    dy = gt_kpy - cmp_kpy\n",
    "\n",
    "    oks = np.exp(-d**2/(2*(s**2)*(k**2)))*sig\n",
    "    tot += oks\n",
    "    print(f\"{kp:15}: {dx:2.5f} {dy:2.5f} {kp_c} {oks}\")\n",
    "\n",
    "print(tot)"
   ]
  }
 ],
 "metadata": {
  "interpreter": {
   "hash": "317e6ee3c2ecfa05d58b47476dc007ed27e3c3e94549de24d7dfe9ed932b5bca"
  },
  "kernelspec": {
   "display_name": "Python 3.8.8 64-bit ('base': conda)",
   "language": "python",
   "name": "python3"
  },
  "language_info": {
   "codemirror_mode": {
    "name": "ipython",
    "version": 3
   },
   "file_extension": ".py",
   "mimetype": "text/x-python",
   "name": "python",
   "nbconvert_exporter": "python",
   "pygments_lexer": "ipython3",
   "version": "3.8.8"
  },
  "orig_nbformat": 4
 },
 "nbformat": 4,
 "nbformat_minor": 2
}
